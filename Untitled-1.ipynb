{
 "cells": [
  {
   "cell_type": "code",
   "execution_count": 140,
   "metadata": {},
   "outputs": [],
   "source": [
    "import sympy as sp\n",
    "from sympy.printing import latex\n",
    "import random\n",
    "from IPython.display import display, Math, Markdown"
   ]
  },
  {
   "cell_type": "markdown",
   "metadata": {},
   "source": [
    "## Parsing appro."
   ]
  },
  {
   "cell_type": "code",
   "execution_count": 103,
   "metadata": {},
   "outputs": [],
   "source": [
    "def parseStringToArray(format):\n",
    "    formatArray = []\n",
    "    currentIDX = 0\n",
    "    match = re.finditer(r'(\\[[\\d]\\-[\\d]\\])(\\{([\\d]+|\\d\\,\\d|\\d\\,)\\})?', format)\n",
    "    if match:\n",
    "        \n",
    "        indexes = [(m.start(), m.end()) for m in match]\n",
    "        for start, end in indexes:\n",
    "            print(start, end)\n",
    "            \n",
    "            segment = format[start:end]\n",
    "            formatArray.append(segment)\n",
    "        \n",
    "    print(f'Parsed Array: {formatArray}')            \n",
    "    return formatArray"
   ]
  },
  {
   "cell_type": "code",
   "execution_count": 104,
   "metadata": {},
   "outputs": [],
   "source": [
    "import random\n",
    "def generateString(format):\n",
    "    formatArray = parseStringToArray(format)\n",
    "    for f in formatArray:\n",
    "            match=re.search(r'\\[(\\d)-(\\d)\\]\\{?([0-9]*)\\}?',f)\n",
    "            if match:\n",
    "                print(match.group(1), match.group(2))\n",
    "                if match.group(3):\n",
    "                  for f in range(1,int(match.group(3))):\n",
    "                    print(random.randrange(int(match.group(1)), int(match.group(2))))\n",
    "                    \n"
   ]
  },
  {
   "cell_type": "code",
   "execution_count": 105,
   "metadata": {},
   "outputs": [
    {
     "name": "stdout",
     "output_type": "stream",
     "text": [
      "1 6\n",
      "22 30\n",
      "Parsed Array: ['[0-9]', '[0-1]{6}']\n",
      "0 9\n",
      "0 1\n",
      "0\n",
      "0\n",
      "0\n",
      "0\n",
      "0\n"
     ]
    }
   ],
   "source": [
    "format = r'a[0-9]+gjrpwjrgopewjga[0-1]{6}'\n",
    "generateString(format)\n"
   ]
  },
  {
   "cell_type": "markdown",
   "metadata": {},
   "source": [
    "## Sympy appro."
   ]
  },
  {
   "cell_type": "markdown",
   "metadata": {},
   "source": [
    "### Functions"
   ]
  },
  {
   "cell_type": "code",
   "execution_count": 208,
   "metadata": {},
   "outputs": [],
   "source": [
    "def getEquationVariables(sameVar=False):\n",
    "    symbolsVar = sp.symbols('a b i j x y z')\n",
    "    while True:\n",
    "        x, y = random.choice(symbolsVar), random.choice(symbolsVar)\n",
    "        if(x != y or sameVar):\n",
    "            return x, y"
   ]
  },
  {
   "cell_type": "code",
   "execution_count": 107,
   "metadata": {},
   "outputs": [],
   "source": [
    "def firstBinomialFormular(maxNum1=20, maxNum2=25):\n",
    "    var1, var2 = getEquationVariables()\n",
    "    num1, num2 = random.randint(1, maxNum1), random.randint(1, maxNum2)\n",
    "    equation = (num1*var1 + num2*var2)**2\n",
    "    return equation"
   ]
  },
  {
   "cell_type": "code",
   "execution_count": 108,
   "metadata": {},
   "outputs": [],
   "source": [
    "def secondBinomialFormular(maxNum1=20, maxNum2=25):\n",
    "    var1, var2 = getEquationVariables()\n",
    "    num1, num2 = random.randint(1, maxNum1), random.randint(1, maxNum2)\n",
    "    equation = (num1*var1 - num2*var2)**2\n",
    "    return equation"
   ]
  },
  {
   "cell_type": "code",
   "execution_count": 134,
   "metadata": {},
   "outputs": [],
   "source": [
    "def thirdBinomialFormular(maxNum1=20, maxNum2=25):\n",
    "    var1, var2 = getEquationVariables()\n",
    "    num1, num2 = random.randint(1, maxNum1), random.randint(1, maxNum2)\n",
    "    equation = (num1*var1)**2 - (num2*var2)**2\n",
    "    return equation"
   ]
  },
  {
   "cell_type": "code",
   "execution_count": 148,
   "metadata": {},
   "outputs": [],
   "source": [
    "def printTasksAsLatex(tasks):\n",
    "    for idx, task in enumerate(tasks):\n",
    "        display(Math(f'{idx}): {latex(task)}'))"
   ]
  },
  {
   "cell_type": "code",
   "execution_count": 119,
   "metadata": {},
   "outputs": [],
   "source": [
    "def generateExpantions(tasks):\n",
    "    solutions = []\n",
    "    for task in tasks:\n",
    "        solutions.append(sp.expand(task))\n",
    "    return solutions"
   ]
  },
  {
   "cell_type": "code",
   "execution_count": 118,
   "metadata": {},
   "outputs": [],
   "source": [
    "def generateFaktors(tasks):\n",
    "    solutions = []\n",
    "    for task in tasks:\n",
    "        solutions.append(sp.factor(task))\n",
    "    return solutions"
   ]
  },
  {
   "cell_type": "code",
   "execution_count": null,
   "metadata": {},
   "outputs": [],
   "source": [
    "def generateSolutions(tasks):\n",
    "    solutions = []\n",
    "    for task in tasks:\n",
    "        solution = sp.factor(task)\n",
    "        if(task != solution):\n",
    "            solutions.append(solution)\n",
    "            continue\n",
    "        solution = sp.expand(task)\n",
    "        solutions.append(solution)\n",
    "        \n",
    "    return solutions"
   ]
  },
  {
   "cell_type": "code",
   "execution_count": 201,
   "metadata": {},
   "outputs": [],
   "source": [
    "def transformFormular(task, equationType):\n",
    "    if equationType == 1 or equationType == 2:\n",
    "            task = sp.expand(task, simplify=False)\n",
    "    if equationType == 3:\n",
    "        task = sp.factor(task)\n",
    "    return task"
   ]
  },
  {
   "cell_type": "markdown",
   "metadata": {},
   "source": [
    "### Generate Tasks"
   ]
  },
  {
   "cell_type": "code",
   "execution_count": 168,
   "metadata": {},
   "outputs": [],
   "source": [
    "amount = 10\n",
    "useReversedFormular = True\n",
    "reversedFormularProbability = 3 # Higher is lower chance"
   ]
  },
  {
   "cell_type": "code",
   "execution_count": 209,
   "metadata": {},
   "outputs": [
    {
     "data": {
      "text/latex": [
       "$\\displaystyle 0): - 625 i^{2} + 81 x^{2}$"
      ],
      "text/plain": [
       "<IPython.core.display.Math object>"
      ]
     },
     "metadata": {},
     "output_type": "display_data"
    },
    {
     "data": {
      "text/latex": [
       "$\\displaystyle 1): \\left(6 a + 2 i\\right)^{2}$"
      ],
      "text/plain": [
       "<IPython.core.display.Math object>"
      ]
     },
     "metadata": {},
     "output_type": "display_data"
    },
    {
     "data": {
      "text/latex": [
       "$\\displaystyle 2): \\left(8 i - 12 y\\right)^{2}$"
      ],
      "text/plain": [
       "<IPython.core.display.Math object>"
      ]
     },
     "metadata": {},
     "output_type": "display_data"
    },
    {
     "data": {
      "text/latex": [
       "$\\displaystyle 3): \\left(12 b - 10 y\\right)^{2}$"
      ],
      "text/plain": [
       "<IPython.core.display.Math object>"
      ]
     },
     "metadata": {},
     "output_type": "display_data"
    },
    {
     "data": {
      "text/latex": [
       "$\\displaystyle 4): \\left(- 25 b + 20 z\\right)^{2}$"
      ],
      "text/plain": [
       "<IPython.core.display.Math object>"
      ]
     },
     "metadata": {},
     "output_type": "display_data"
    },
    {
     "data": {
      "text/latex": [
       "$\\displaystyle 5): \\left(13 a + 7 y\\right)^{2}$"
      ],
      "text/plain": [
       "<IPython.core.display.Math object>"
      ]
     },
     "metadata": {},
     "output_type": "display_data"
    },
    {
     "data": {
      "text/latex": [
       "$\\displaystyle 6): 361 a^{2} - 169 b^{2}$"
      ],
      "text/plain": [
       "<IPython.core.display.Math object>"
      ]
     },
     "metadata": {},
     "output_type": "display_data"
    },
    {
     "data": {
      "text/latex": [
       "$\\displaystyle 7): 100 b^{2} - 280 b z + 196 z^{2}$"
      ],
      "text/plain": [
       "<IPython.core.display.Math object>"
      ]
     },
     "metadata": {},
     "output_type": "display_data"
    },
    {
     "data": {
      "text/latex": [
       "$\\displaystyle 8): 256 x^{2} + 320 x y + 100 y^{2}$"
      ],
      "text/plain": [
       "<IPython.core.display.Math object>"
      ]
     },
     "metadata": {},
     "output_type": "display_data"
    },
    {
     "data": {
      "text/latex": [
       "$\\displaystyle 9): \\left(5 y + 24 z\\right)^{2}$"
      ],
      "text/plain": [
       "<IPython.core.display.Math object>"
      ]
     },
     "metadata": {},
     "output_type": "display_data"
    },
    {
     "data": {
      "text/markdown": [
       "## Lösungen"
      ],
      "text/plain": [
       "<IPython.core.display.Markdown object>"
      ]
     },
     "metadata": {},
     "output_type": "display_data"
    },
    {
     "data": {
      "text/latex": [
       "$\\displaystyle 0): \\left(- 25 i + 9 x\\right) \\left(25 i + 9 x\\right)$"
      ],
      "text/plain": [
       "<IPython.core.display.Math object>"
      ]
     },
     "metadata": {},
     "output_type": "display_data"
    },
    {
     "data": {
      "text/latex": [
       "$\\displaystyle 1): 36 a^{2} + 24 a i + 4 i^{2}$"
      ],
      "text/plain": [
       "<IPython.core.display.Math object>"
      ]
     },
     "metadata": {},
     "output_type": "display_data"
    },
    {
     "data": {
      "text/latex": [
       "$\\displaystyle 2): 64 i^{2} - 192 i y + 144 y^{2}$"
      ],
      "text/plain": [
       "<IPython.core.display.Math object>"
      ]
     },
     "metadata": {},
     "output_type": "display_data"
    },
    {
     "data": {
      "text/latex": [
       "$\\displaystyle 3): 144 b^{2} - 240 b y + 100 y^{2}$"
      ],
      "text/plain": [
       "<IPython.core.display.Math object>"
      ]
     },
     "metadata": {},
     "output_type": "display_data"
    },
    {
     "data": {
      "text/latex": [
       "$\\displaystyle 4): 625 b^{2} - 1000 b z + 400 z^{2}$"
      ],
      "text/plain": [
       "<IPython.core.display.Math object>"
      ]
     },
     "metadata": {},
     "output_type": "display_data"
    },
    {
     "data": {
      "text/latex": [
       "$\\displaystyle 5): 169 a^{2} + 182 a y + 49 y^{2}$"
      ],
      "text/plain": [
       "<IPython.core.display.Math object>"
      ]
     },
     "metadata": {},
     "output_type": "display_data"
    },
    {
     "data": {
      "text/latex": [
       "$\\displaystyle 6): \\left(19 a - 13 b\\right) \\left(19 a + 13 b\\right)$"
      ],
      "text/plain": [
       "<IPython.core.display.Math object>"
      ]
     },
     "metadata": {},
     "output_type": "display_data"
    },
    {
     "data": {
      "text/latex": [
       "$\\displaystyle 7): \\left(10 b - 14 z\\right)^{2}$"
      ],
      "text/plain": [
       "<IPython.core.display.Math object>"
      ]
     },
     "metadata": {},
     "output_type": "display_data"
    },
    {
     "data": {
      "text/latex": [
       "$\\displaystyle 8): \\left(16 x + 10 y\\right)^{2}$"
      ],
      "text/plain": [
       "<IPython.core.display.Math object>"
      ]
     },
     "metadata": {},
     "output_type": "display_data"
    },
    {
     "data": {
      "text/latex": [
       "$\\displaystyle 9): 25 y^{2} + 240 y z + 576 z^{2}$"
      ],
      "text/plain": [
       "<IPython.core.display.Math object>"
      ]
     },
     "metadata": {},
     "output_type": "display_data"
    }
   ],
   "source": [
    "tasks = []\n",
    "solutions = []\n",
    "for i in range(amount):\n",
    "    equationType = random.randint(1,3)\n",
    "    \n",
    "    if useReversedFormular:\n",
    "        reversedFormular = random.randint(0,reversedFormularProbability)\n",
    "        random.random()\n",
    "    else:\n",
    "        reversedFormular = 0\n",
    "        \n",
    "    if equationType == 1:\n",
    "        task = firstBinomialFormular()\n",
    "    if equationType == 2:\n",
    "        task = secondBinomialFormular()\n",
    "    if equationType == 3:\n",
    "        task = thirdBinomialFormular()\n",
    "    \n",
    "    transformedTask = transformFormular(task, equationType)\n",
    "    if reversedFormular == reversedFormularProbability:\n",
    "        tasks.append(transformedTask)\n",
    "        solutions.append(task)\n",
    "    else:\n",
    "        tasks.append(task)\n",
    "        solutions.append(transformedTask)\n",
    "\n",
    "printTasksAsLatex(tasks)\n",
    "display(Markdown('## Lösungen'))\n",
    "printTasksAsLatex(solutions)"
   ]
  },
  {
   "cell_type": "code",
   "execution_count": 187,
   "metadata": {},
   "outputs": [
    {
     "data": {
      "text/latex": [
       "$\\displaystyle 0): 9 \\cdot \\left(5 x - 3 z\\right) \\left(5 x + 3 z\\right)$"
      ],
      "text/plain": [
       "<IPython.core.display.Math object>"
      ]
     },
     "metadata": {},
     "output_type": "display_data"
    },
    {
     "data": {
      "text/latex": [
       "$\\displaystyle 1): - \\left(- 15 c + 13 x\\right) \\left(15 c + 13 x\\right)$"
      ],
      "text/plain": [
       "<IPython.core.display.Math object>"
      ]
     },
     "metadata": {},
     "output_type": "display_data"
    },
    {
     "data": {
      "text/latex": [
       "$\\displaystyle 2): - 16 \\cdot \\left(3 a - 2 c\\right) \\left(3 a + 2 c\\right)$"
      ],
      "text/plain": [
       "<IPython.core.display.Math object>"
      ]
     },
     "metadata": {},
     "output_type": "display_data"
    },
    {
     "data": {
      "text/latex": [
       "$\\displaystyle 3): 4 \\left(- 9 b + z\\right)^{2}$"
      ],
      "text/plain": [
       "<IPython.core.display.Math object>"
      ]
     },
     "metadata": {},
     "output_type": "display_data"
    },
    {
     "data": {
      "text/latex": [
       "$\\displaystyle 4): 4 \\left(- 2 c + z\\right)^{2}$"
      ],
      "text/plain": [
       "<IPython.core.display.Math object>"
      ]
     },
     "metadata": {},
     "output_type": "display_data"
    },
    {
     "data": {
      "text/latex": [
       "$\\displaystyle 5): \\left(12 b + 19 x\\right)^{2}$"
      ],
      "text/plain": [
       "<IPython.core.display.Math object>"
      ]
     },
     "metadata": {},
     "output_type": "display_data"
    },
    {
     "data": {
      "text/latex": [
       "$\\displaystyle 6): \\left(3 a + 7 b\\right)^{2}$"
      ],
      "text/plain": [
       "<IPython.core.display.Math object>"
      ]
     },
     "metadata": {},
     "output_type": "display_data"
    },
    {
     "data": {
      "text/latex": [
       "$\\displaystyle 7): \\left(18 x + z\\right)^{2}$"
      ],
      "text/plain": [
       "<IPython.core.display.Math object>"
      ]
     },
     "metadata": {},
     "output_type": "display_data"
    },
    {
     "data": {
      "text/latex": [
       "$\\displaystyle 8): - \\left(- b + 20 z\\right) \\left(b + 20 z\\right)$"
      ],
      "text/plain": [
       "<IPython.core.display.Math object>"
      ]
     },
     "metadata": {},
     "output_type": "display_data"
    },
    {
     "data": {
      "text/latex": [
       "$\\displaystyle 9): 9 \\cdot \\left(6 y - z\\right) \\left(6 y + z\\right)$"
      ],
      "text/plain": [
       "<IPython.core.display.Math object>"
      ]
     },
     "metadata": {},
     "output_type": "display_data"
    }
   ],
   "source": [
    "printTasksAsLatex(generateFaktors(tasks))"
   ]
  },
  {
   "cell_type": "markdown",
   "metadata": {},
   "source": [
    "### All in one"
   ]
  },
  {
   "cell_type": "code",
   "execution_count": 101,
   "metadata": {},
   "outputs": [
    {
     "data": {
      "text/latex": [
       "$\\displaystyle \\left(4 a + 9 b\\right)^{2}$"
      ],
      "text/plain": [
       "<IPython.core.display.Math object>"
      ]
     },
     "metadata": {},
     "output_type": "display_data"
    }
   ],
   "source": [
    "symbolsVar = sp.symbols('a b c x y z')\n",
    "lineOpperators = sp.symbols('- +')\n",
    "\n",
    "lineOpperator = random.choice(lineOpperators)\n",
    "\n",
    "while 1 !=3:\n",
    "    x, y = random.choice(symbolsVar), random.choice(symbolsVar)\n",
    "    if(x != y):\n",
    "        break\n",
    "\n",
    "num1, num2 = random.randint(1,10), random.randint(1,10)\n",
    "\n",
    "equation = (num1*x + num2*y)**2\n",
    "\n",
    "display(Math(f'$${latex(equation)}$$'))"
   ]
  }
 ],
 "metadata": {
  "kernelspec": {
   "display_name": "Python 3",
   "language": "python",
   "name": "python3"
  },
  "language_info": {
   "codemirror_mode": {
    "name": "ipython",
    "version": 3
   },
   "file_extension": ".py",
   "mimetype": "text/x-python",
   "name": "python",
   "nbconvert_exporter": "python",
   "pygments_lexer": "ipython3",
   "version": "3.11.7"
  }
 },
 "nbformat": 4,
 "nbformat_minor": 2
}
