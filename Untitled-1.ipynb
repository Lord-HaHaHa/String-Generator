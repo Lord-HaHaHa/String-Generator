{
 "cells": [
  {
   "cell_type": "code",
   "execution_count": 84,
   "metadata": {},
   "outputs": [],
   "source": [
    "import sympy as sp\n",
    "from sympy.printing import latex\n",
    "import random\n",
    "from IPython.display import display, Math, Markdown\n",
    "import re"
   ]
  },
  {
   "cell_type": "markdown",
   "metadata": {},
   "source": [
    "## Parsing appro."
   ]
  },
  {
   "cell_type": "code",
   "execution_count": 85,
   "metadata": {},
   "outputs": [],
   "source": [
    "def parseStringToArray(format):\n",
    "    formatArray = []\n",
    "    currentIDX = 0\n",
    "    match = re.finditer(r'(\\[[\\d]\\-[\\d]\\])(\\{([\\d]+|\\d\\,\\d|\\d\\,)\\})?', format)\n",
    "    if match:\n",
    "        \n",
    "        indexes = [(m.start(), m.end()) for m in match]\n",
    "        for start, end in indexes:\n",
    "            print(start, end)\n",
    "            \n",
    "            segment = format[start:end]\n",
    "            formatArray.append(segment)\n",
    "        \n",
    "    print(f'Parsed Array: {formatArray}')            \n",
    "    return formatArray"
   ]
  },
  {
   "cell_type": "code",
   "execution_count": 86,
   "metadata": {},
   "outputs": [],
   "source": [
    "import random\n",
    "def generateString(format):\n",
    "    formatArray = parseStringToArray(format)\n",
    "    for f in formatArray:\n",
    "            match=re.search(r'\\[(\\d)-(\\d)\\]\\{?([0-9]*)\\}?',f)\n",
    "            if match:\n",
    "                print(match.group(1), match.group(2))\n",
    "                if match.group(3):\n",
    "                  for f in range(1,int(match.group(3))):\n",
    "                    print(random.randrange(int(match.group(1)), int(match.group(2))))\n",
    "                    \n"
   ]
  },
  {
   "cell_type": "code",
   "execution_count": 87,
   "metadata": {},
   "outputs": [
    {
     "name": "stdout",
     "output_type": "stream",
     "text": [
      "1 6\n",
      "22 30\n",
      "Parsed Array: ['[0-9]', '[0-1]{6}']\n",
      "0 9\n",
      "0 1\n",
      "0\n",
      "0\n",
      "0\n",
      "0\n",
      "0\n"
     ]
    }
   ],
   "source": [
    "format = r'a[0-9]+gjrpwjrgopewjga[0-1]{6}'\n",
    "generateString(format)\n"
   ]
  },
  {
   "cell_type": "markdown",
   "metadata": {},
   "source": [
    "## Sympy appro."
   ]
  },
  {
   "cell_type": "markdown",
   "metadata": {},
   "source": [
    "### Functions"
   ]
  },
  {
   "cell_type": "markdown",
   "metadata": {},
   "source": [
    "#### General"
   ]
  },
  {
   "cell_type": "code",
   "execution_count": 88,
   "metadata": {},
   "outputs": [],
   "source": [
    "def generateSymbols(useCombinations=True):\n",
    "    # Define symbol names\n",
    "    symbol_names = ['a', 'b', 'c', 'i', 'j', 'k', 'p', 'x', 'y', 'z']\n",
    "\n",
    "    # Create individual symbols\n",
    "    symbols = sp.symbols(symbol_names)\n",
    "\n",
    "    # Generate combinations of length 2 and 3\n",
    "    combinations = []\n",
    "    if useCombinations:\n",
    "        for i in range(len(symbol_names) - 1):\n",
    "            for j in range(i + 1, len(symbol_names)):\n",
    "                combination_2 = symbols[i] * symbols[j]\n",
    "                combinations.append(combination_2)\n",
    "\n",
    "                for k in range(j + 1, len(symbol_names)):\n",
    "                    combination_3 = symbols[i] * symbols[j] * symbols[k]\n",
    "                    combinations.append(combination_3)\n",
    "\n",
    "    # Combine all symbols and combinations\n",
    "    symbolsVar = symbols + combinations\n",
    "    \n",
    "    return(symbolsVar)"
   ]
  },
  {
   "cell_type": "code",
   "execution_count": 89,
   "metadata": {},
   "outputs": [],
   "source": [
    "def get2EquationVariables(sameVar=False, useCombinations = True):\n",
    "    symbolsVar = generateSymbols(useCombinations=useCombinations)\n",
    "    while True:\n",
    "        v1, v2 = random.sample(symbolsVar, 2)\n",
    "        if(v1 != v2 or sameVar):\n",
    "            return v1, v2"
   ]
  },
  {
   "cell_type": "code",
   "execution_count": 90,
   "metadata": {},
   "outputs": [],
   "source": [
    "def get4EquationVariables(sameVar=False, useCombinations = True):\n",
    "    symbolsVar = generateSymbols(useCombinations)\n",
    "    while True:\n",
    "        v1, v2, v3, v4 = random.sample(symbolsVar, 4)\n",
    "        if(v1 != v2 != v3 != v4 or sameVar):\n",
    "            return v1, v2, v3, v4"
   ]
  },
  {
   "cell_type": "code",
   "execution_count": 91,
   "metadata": {},
   "outputs": [],
   "source": [
    "def printTaskAsLatex(task, idx=-1):\n",
    "    if idx >= 0:\n",
    "        display(Math(f'{idx}): {latex(task)}'))\n",
    "    else:\n",
    "        display(Math(latex(task)))\n",
    "        \n",
    "def printTasksAsLatex(tasks):\n",
    "    for idx, task in enumerate(tasks):\n",
    "        printTaskAsLatex(task=task, idx=idx)"
   ]
  },
  {
   "cell_type": "code",
   "execution_count": 133,
   "metadata": {},
   "outputs": [],
   "source": [
    "def transformFormular(task, transformType):\n",
    "    if transformType == 'expand':\n",
    "            task = sp.expand(task, simplify=False)\n",
    "    if transformType == 'factor':\n",
    "        task = sp.factor(task)\n",
    "    return task"
   ]
  },
  {
   "cell_type": "markdown",
   "metadata": {},
   "source": [
    "#### Binom"
   ]
  },
  {
   "cell_type": "code",
   "execution_count": 93,
   "metadata": {},
   "outputs": [],
   "source": [
    "def firstBinomialFormular(maxNum1=20, maxNum2=25):\n",
    "    var1, var2 = get2EquationVariables()\n",
    "    num1, num2 = random.randint(1, maxNum1), random.randint(1, maxNum2)\n",
    "    equation = (num1*var1 + num2*var2)**2\n",
    "    return equation"
   ]
  },
  {
   "cell_type": "code",
   "execution_count": 94,
   "metadata": {},
   "outputs": [],
   "source": [
    "def secondBinomialFormular(maxNum1=20, maxNum2=25):\n",
    "    var1, var2 = get2EquationVariables()\n",
    "    num1, num2 = random.randint(1, maxNum1), random.randint(1, maxNum2)\n",
    "    equation = (num1*var1 - num2*var2)**2\n",
    "    return equation"
   ]
  },
  {
   "cell_type": "code",
   "execution_count": 95,
   "metadata": {},
   "outputs": [],
   "source": [
    "def thirdBinomialFormular(maxNum1=20, maxNum2=25):\n",
    "    var1, var2 = get2EquationVariables()\n",
    "    num1, num2 = random.randint(1, maxNum1), random.randint(1, maxNum2)\n",
    "    equation = (num1*var1)**2 - (num2*var2)**2\n",
    "    return equation"
   ]
  },
  {
   "cell_type": "code",
   "execution_count": 139,
   "metadata": {},
   "outputs": [],
   "source": [
    "def generateBinomFormular():\n",
    "    binomTypes = ['1Binom', '2Binom', '3Binom']\n",
    "    equationType = random.choice(binomTypes)\n",
    "    if equationType == '1Binom':\n",
    "        task = firstBinomialFormular()\n",
    "    if equationType == '2Binom':\n",
    "        task = secondBinomialFormular()\n",
    "    if equationType == '3Binom':\n",
    "        task = thirdBinomialFormular()\n",
    "    return (task, equationType)"
   ]
  },
  {
   "cell_type": "markdown",
   "metadata": {},
   "source": [
    "#### Ausklammern"
   ]
  },
  {
   "cell_type": "code",
   "execution_count": 96,
   "metadata": {},
   "outputs": [],
   "source": [
    "def bracketMultiplyFormular(maxNum=20):\n",
    "    v1, v2, v3, v4 = get4EquationVariables()\n",
    "    n1, n2, n3, n4 = random.randint(-maxNum, maxNum), random.randint(-maxNum, maxNum), random.randint(-maxNum, maxNum), random.randint(-maxNum, maxNum)\n",
    "    \n",
    "    return (n1*v1+n2*v2)*(n3*v3+n4*v4)"
   ]
  },
  {
   "cell_type": "markdown",
   "metadata": {},
   "source": [
    "### Generate Tasks"
   ]
  },
  {
   "cell_type": "markdown",
   "metadata": {},
   "source": [
    "Const"
   ]
  },
  {
   "cell_type": "code",
   "execution_count": 162,
   "metadata": {},
   "outputs": [],
   "source": [
    "TRANSFORMTYPE = {\n",
    "    '1Binom': 'expand',\n",
    "    '2Binom': 'expand',\n",
    "    '3Binom': 'factor',\n",
    "    'Bracet': 'expand'\n",
    "}"
   ]
  },
  {
   "cell_type": "markdown",
   "metadata": {},
   "source": [
    "#### Generate task by type"
   ]
  },
  {
   "cell_type": "markdown",
   "metadata": {},
   "source": [
    "Bracket Multiply"
   ]
  },
  {
   "cell_type": "code",
   "execution_count": 146,
   "metadata": {},
   "outputs": [
    {
     "data": {
      "text/latex": [
       "$\\displaystyle \\left(10 a b + 11 a c i\\right) \\left(16 a p x + 11 c k y\\right)$"
      ],
      "text/plain": [
       "<IPython.core.display.Math object>"
      ]
     },
     "metadata": {},
     "output_type": "display_data"
    },
    {
     "name": "stdout",
     "output_type": "stream",
     "text": [
      "Solution:\n"
     ]
    },
    {
     "data": {
      "text/latex": [
       "$\\displaystyle 160 a^{2} b p x + 176 a^{2} c i p x + 110 a b c k y + 121 a c^{2} i k y$"
      ],
      "text/plain": [
       "<IPython.core.display.Math object>"
      ]
     },
     "metadata": {},
     "output_type": "display_data"
    }
   ],
   "source": [
    "task = bracketMultiplyFormular()\n",
    "printTaskAsLatex(task)\n",
    "solution = transformFormular(task, TRANSFORMTYPE['Bracet'])\n",
    "print('Solution:')\n",
    "printTaskAsLatex(solution)"
   ]
  },
  {
   "cell_type": "markdown",
   "metadata": {},
   "source": [
    "Binom"
   ]
  },
  {
   "cell_type": "code",
   "execution_count": 155,
   "metadata": {},
   "outputs": [
    {
     "data": {
      "text/latex": [
       "$\\displaystyle \\left(18 a j k + 10 b y\\right)^{2}$"
      ],
      "text/plain": [
       "<IPython.core.display.Math object>"
      ]
     },
     "metadata": {},
     "output_type": "display_data"
    },
    {
     "name": "stdout",
     "output_type": "stream",
     "text": [
      "Solution:\n"
     ]
    },
    {
     "data": {
      "text/latex": [
       "$\\displaystyle 324 a^{2} j^{2} k^{2} + 360 a b j k y + 100 b^{2} y^{2}$"
      ],
      "text/plain": [
       "<IPython.core.display.Math object>"
      ]
     },
     "metadata": {},
     "output_type": "display_data"
    }
   ],
   "source": [
    "task, binomType = generateBinomFormular()\n",
    "printTaskAsLatex(task)\n",
    "solution = transformFormular(task, TRANSFORMTYPE[binomType])\n",
    "print('Solution:')\n",
    "printTaskAsLatex(solution)"
   ]
  },
  {
   "cell_type": "markdown",
   "metadata": {},
   "source": [
    "#### Multipl Tasks"
   ]
  },
  {
   "cell_type": "markdown",
   "metadata": {},
   "source": [
    "Vars"
   ]
  },
  {
   "cell_type": "code",
   "execution_count": 160,
   "metadata": {},
   "outputs": [],
   "source": [
    "amount = 10\n",
    "useReversedFormular = True\n",
    "reversedFormularProbability = 0.5"
   ]
  },
  {
   "cell_type": "markdown",
   "metadata": {},
   "source": [
    "Generator"
   ]
  },
  {
   "cell_type": "code",
   "execution_count": 164,
   "metadata": {},
   "outputs": [
    {
     "ename": "KeyError",
     "evalue": "0",
     "output_type": "error",
     "traceback": [
      "\u001b[1;31m---------------------------------------------------------------------------\u001b[0m",
      "\u001b[1;31mKeyError\u001b[0m                                  Traceback (most recent call last)",
      "Cell \u001b[1;32mIn[164], line 4\u001b[0m\n\u001b[0;32m      2\u001b[0m solutions \u001b[38;5;241m=\u001b[39m []\n\u001b[0;32m      3\u001b[0m \u001b[38;5;28;01mfor\u001b[39;00m i \u001b[38;5;129;01min\u001b[39;00m \u001b[38;5;28mrange\u001b[39m(amount):\n\u001b[1;32m----> 4\u001b[0m     equationType \u001b[38;5;241m=\u001b[39m random\u001b[38;5;241m.\u001b[39mchoice(\u001b[43mTRANSFORMTYPE\u001b[49m\u001b[43m[\u001b[49m\u001b[38;5;241;43m0\u001b[39;49m\u001b[43m]\u001b[49m)\n\u001b[0;32m      6\u001b[0m     \u001b[38;5;28;01mif\u001b[39;00m useReversedFormular:\n\u001b[0;32m      7\u001b[0m         reversedFormular \u001b[38;5;241m=\u001b[39m random\u001b[38;5;241m.\u001b[39mrandom()\n",
      "\u001b[1;31mKeyError\u001b[0m: 0"
     ]
    }
   ],
   "source": [
    "tasks = []\n",
    "solutions = []\n",
    "for i in range(amount):\n",
    "    equationType = random.choice(TRANSFORMTYPE)\n",
    "    \n",
    "    if useReversedFormular:\n",
    "        reversedFormular = random.random()\n",
    "    else:\n",
    "        reversedFormular = 0\n",
    "        \n",
    "    if equationType == '1Binom':\n",
    "        task = firstBinomialFormular()\n",
    "    if equationType == '2Binom':\n",
    "        task = secondBinomialFormular()\n",
    "    if equationType == '3Binom':\n",
    "        task = thirdBinomialFormular()\n",
    "    if equationType == 'Bracet':\n",
    "        task = bracketMultiplyFormular()\n",
    "    \n",
    "    transformedTask = transformFormular(task, equationType)\n",
    "    \n",
    "    if reversedFormular > reversedFormularProbability:\n",
    "        tasks.append(transformedTask)\n",
    "        solutions.append(task)\n",
    "    else:\n",
    "        tasks.append(task)\n",
    "        solutions.append(transformedTask)\n",
    "\n",
    "printTasksAsLatex(tasks)\n",
    "display(Markdown('## Lösungen'))\n",
    "printTasksAsLatex(solutions)"
   ]
  },
  {
   "cell_type": "markdown",
   "metadata": {},
   "source": [
    "Generate backet multiply Formular"
   ]
  },
  {
   "cell_type": "markdown",
   "metadata": {},
   "source": [
    "### All in one"
   ]
  },
  {
   "cell_type": "code",
   "execution_count": null,
   "metadata": {},
   "outputs": [
    {
     "data": {
      "text/latex": [
       "$\\displaystyle \\left(4 a + 9 b\\right)^{2}$"
      ],
      "text/plain": [
       "<IPython.core.display.Math object>"
      ]
     },
     "metadata": {},
     "output_type": "display_data"
    }
   ],
   "source": [
    "symbolsVar = sp.symbols('a b c x y z')\n",
    "lineOpperators = sp.symbols('- +')\n",
    "\n",
    "lineOpperator = random.choice(lineOpperators)\n",
    "\n",
    "while 1 !=3:\n",
    "    x, y = random.choice(symbolsVar), random.choice(symbolsVar)\n",
    "    if(x != y):\n",
    "        break\n",
    "\n",
    "num1, num2 = random.randint(1,10), random.randint(1,10)\n",
    "\n",
    "equation = (num1*x + num2*y)**2\n",
    "\n",
    "display(Math(f'$${latex(equation)}$$'))"
   ]
  }
 ],
 "metadata": {
  "kernelspec": {
   "display_name": "Python 3",
   "language": "python",
   "name": "python3"
  },
  "language_info": {
   "codemirror_mode": {
    "name": "ipython",
    "version": 3
   },
   "file_extension": ".py",
   "mimetype": "text/x-python",
   "name": "python",
   "nbconvert_exporter": "python",
   "pygments_lexer": "ipython3",
   "version": "3.11.7"
  }
 },
 "nbformat": 4,
 "nbformat_minor": 2
}
