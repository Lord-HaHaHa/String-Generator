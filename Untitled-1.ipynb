{
 "cells": [
  {
   "cell_type": "code",
   "execution_count": 84,
   "metadata": {},
   "outputs": [],
   "source": [
    "import sympy as sp\n",
    "from sympy.printing import latex\n",
    "import random\n",
    "from IPython.display import display, Math, Markdown\n",
    "import re"
   ]
  },
  {
   "cell_type": "markdown",
   "metadata": {},
   "source": [
    "## Parsing appro."
   ]
  },
  {
   "cell_type": "code",
   "execution_count": 85,
   "metadata": {},
   "outputs": [],
   "source": [
    "def parseStringToArray(format):\n",
    "    formatArray = []\n",
    "    currentIDX = 0\n",
    "    match = re.finditer(r'(\\[[\\d]\\-[\\d]\\])(\\{([\\d]+|\\d\\,\\d|\\d\\,)\\})?', format)\n",
    "    if match:\n",
    "        \n",
    "        indexes = [(m.start(), m.end()) for m in match]\n",
    "        for start, end in indexes:\n",
    "            print(start, end)\n",
    "            \n",
    "            segment = format[start:end]\n",
    "            formatArray.append(segment)\n",
    "        \n",
    "    print(f'Parsed Array: {formatArray}')            \n",
    "    return formatArray"
   ]
  },
  {
   "cell_type": "code",
   "execution_count": 86,
   "metadata": {},
   "outputs": [],
   "source": [
    "import random\n",
    "def generateString(format):\n",
    "    formatArray = parseStringToArray(format)\n",
    "    for f in formatArray:\n",
    "            match=re.search(r'\\[(\\d)-(\\d)\\]\\{?([0-9]*)\\}?',f)\n",
    "            if match:\n",
    "                print(match.group(1), match.group(2))\n",
    "                if match.group(3):\n",
    "                  for f in range(1,int(match.group(3))):\n",
    "                    print(random.randrange(int(match.group(1)), int(match.group(2))))\n",
    "                    \n"
   ]
  },
  {
   "cell_type": "code",
   "execution_count": 87,
   "metadata": {},
   "outputs": [
    {
     "name": "stdout",
     "output_type": "stream",
     "text": [
      "1 6\n",
      "22 30\n",
      "Parsed Array: ['[0-9]', '[0-1]{6}']\n",
      "0 9\n",
      "0 1\n",
      "0\n",
      "0\n",
      "0\n",
      "0\n",
      "0\n"
     ]
    }
   ],
   "source": [
    "format = r'a[0-9]+gjrpwjrgopewjga[0-1]{6}'\n",
    "generateString(format)\n"
   ]
  },
  {
   "cell_type": "markdown",
   "metadata": {},
   "source": [
    "## Sympy appro."
   ]
  },
  {
   "cell_type": "markdown",
   "metadata": {},
   "source": [
    "### Functions"
   ]
  },
  {
   "cell_type": "markdown",
   "metadata": {},
   "source": [
    "#### General"
   ]
  },
  {
   "cell_type": "code",
   "execution_count": 176,
   "metadata": {},
   "outputs": [],
   "source": [
    "def generateSymbols(useCombinations=True):\n",
    "    # Define symbol names\n",
    "    symbol_names = ['a', 'b', 'c', 'i', 'j', 'k', 'p', 'x', 'y', 'z']\n",
    "\n",
    "    # Create individual symbols\n",
    "    symbols = sp.symbols(symbol_names)\n",
    "\n",
    "    # Generate combinations of length 2 and 3\n",
    "    combinations = []\n",
    "    if useCombinations:\n",
    "        for i in range(len(symbol_names) - 1):\n",
    "            for j in range(i + 1, len(symbol_names)):\n",
    "                combination_2 = symbols[i] * symbols[j]\n",
    "                combinations.append(combination_2)\n",
    "\n",
    "                for k in range(j + 1, len(symbol_names)):\n",
    "                    combination_3 = symbols[i] * symbols[j] * symbols[k]\n",
    "                    combinations.append(combination_3)\n",
    "\n",
    "    # Combine all symbols and combinations\n",
    "    symbolsVar = symbols + combinations\n",
    "    \n",
    "    return(symbolsVar)"
   ]
  },
  {
   "cell_type": "code",
   "execution_count": 89,
   "metadata": {},
   "outputs": [],
   "source": [
    "def get2EquationVariables(sameVar=False, useCombinations = True):\n",
    "    symbolsVar = generateSymbols(useCombinations=useCombinations)\n",
    "    while True:\n",
    "        v1, v2 = random.sample(symbolsVar, 2)\n",
    "        if(v1 != v2 or sameVar):\n",
    "            return v1, v2"
   ]
  },
  {
   "cell_type": "code",
   "execution_count": 177,
   "metadata": {},
   "outputs": [],
   "source": [
    "def get4EquationVariables(sameVar=False, useCombinations = False):\n",
    "    symbolsVar = generateSymbols(useCombinations)\n",
    "    while True:\n",
    "        v1, v2, v3, v4 = random.sample(symbolsVar, 4)\n",
    "        if(v1 != v2 != v3 != v4 or sameVar):\n",
    "            return v1, v2, v3, v4"
   ]
  },
  {
   "cell_type": "code",
   "execution_count": 211,
   "metadata": {},
   "outputs": [],
   "source": [
    "def printTaskAsLatex(task, idx=-1, transformType=''):\n",
    "    ending = ''\n",
    "    if transformType != '':\n",
    "        ending = '\\\\text{ // ' + transformType + '}'\n",
    "    \n",
    "    if idx >= 0:\n",
    "        display(Math(f'{latex(idx)}): {latex(task)}{ending}'))\n",
    "    else:\n",
    "        display(Math(f'{latex(task)} {ending}'))\n",
    "        \n",
    "def printTasksAsLatex(tasks, transformTypes=[]):\n",
    "    for idx, task in enumerate(tasks):\n",
    "        if transformTypes != []:\n",
    "            printTaskAsLatex(task=task, idx=idx, transformType=transformTypes[idx])\n",
    "        else:\n",
    "            printTaskAsLatex(task=task, idx=idx)\n",
    "        "
   ]
  },
  {
   "cell_type": "code",
   "execution_count": 133,
   "metadata": {},
   "outputs": [],
   "source": [
    "def transformFormular(task, transformType):\n",
    "    if transformType == 'expand':\n",
    "            task = sp.expand(task, simplify=False)\n",
    "    if transformType == 'factor':\n",
    "        task = sp.factor(task)\n",
    "    return task"
   ]
  },
  {
   "cell_type": "markdown",
   "metadata": {},
   "source": [
    "#### Binom"
   ]
  },
  {
   "cell_type": "code",
   "execution_count": 93,
   "metadata": {},
   "outputs": [],
   "source": [
    "def firstBinomialFormular(maxNum1=20, maxNum2=25):\n",
    "    var1, var2 = get2EquationVariables()\n",
    "    num1, num2 = random.randint(1, maxNum1), random.randint(1, maxNum2)\n",
    "    equation = (num1*var1 + num2*var2)**2\n",
    "    return equation"
   ]
  },
  {
   "cell_type": "code",
   "execution_count": 94,
   "metadata": {},
   "outputs": [],
   "source": [
    "def secondBinomialFormular(maxNum1=20, maxNum2=25):\n",
    "    var1, var2 = get2EquationVariables()\n",
    "    num1, num2 = random.randint(1, maxNum1), random.randint(1, maxNum2)\n",
    "    equation = (num1*var1 - num2*var2)**2\n",
    "    return equation"
   ]
  },
  {
   "cell_type": "code",
   "execution_count": 95,
   "metadata": {},
   "outputs": [],
   "source": [
    "def thirdBinomialFormular(maxNum1=20, maxNum2=25):\n",
    "    var1, var2 = get2EquationVariables()\n",
    "    num1, num2 = random.randint(1, maxNum1), random.randint(1, maxNum2)\n",
    "    equation = (num1*var1)**2 - (num2*var2)**2\n",
    "    return equation"
   ]
  },
  {
   "cell_type": "code",
   "execution_count": 139,
   "metadata": {},
   "outputs": [],
   "source": [
    "def generateBinomFormular():\n",
    "    binomTypes = ['1Binom', '2Binom', '3Binom']\n",
    "    equationType = random.choice(binomTypes)\n",
    "    if equationType == '1Binom':\n",
    "        task = firstBinomialFormular()\n",
    "    if equationType == '2Binom':\n",
    "        task = secondBinomialFormular()\n",
    "    if equationType == '3Binom':\n",
    "        task = thirdBinomialFormular()\n",
    "    return (task, equationType)"
   ]
  },
  {
   "cell_type": "markdown",
   "metadata": {},
   "source": [
    "#### Ausklammern"
   ]
  },
  {
   "cell_type": "code",
   "execution_count": 96,
   "metadata": {},
   "outputs": [],
   "source": [
    "def bracketMultiplyFormular(maxNum=20):\n",
    "    v1, v2, v3, v4 = get4EquationVariables()\n",
    "    n1, n2, n3, n4 = random.randint(-maxNum, maxNum), random.randint(-maxNum, maxNum), random.randint(-maxNum, maxNum), random.randint(-maxNum, maxNum)\n",
    "    \n",
    "    return (n1*v1+n2*v2)*(n3*v3+n4*v4)"
   ]
  },
  {
   "cell_type": "markdown",
   "metadata": {},
   "source": [
    "### Generate Tasks"
   ]
  },
  {
   "cell_type": "markdown",
   "metadata": {},
   "source": [
    "Const"
   ]
  },
  {
   "cell_type": "code",
   "execution_count": 180,
   "metadata": {},
   "outputs": [],
   "source": [
    "TRANSFORMTYPE = {\n",
    "    '1Binom': 'expand',\n",
    "    '2Binom': 'expand',\n",
    "    '3Binom': 'factor',\n",
    "    'Bracet': 'expand'\n",
    "}\n",
    "\n",
    "REVERSE_TRANSFORM = {\n",
    "    'expand': 'factor',\n",
    "    'factor': 'expand'\n",
    "}"
   ]
  },
  {
   "cell_type": "markdown",
   "metadata": {},
   "source": [
    "#### Generate task by type"
   ]
  },
  {
   "cell_type": "markdown",
   "metadata": {},
   "source": [
    "Bracket Multiply"
   ]
  },
  {
   "cell_type": "code",
   "execution_count": 207,
   "metadata": {},
   "outputs": [
    {
     "data": {
      "text/latex": [
       "$\\displaystyle \\left(10 c - 2 j\\right) \\left(- 19 k + 16 p\\right) $"
      ],
      "text/plain": [
       "<IPython.core.display.Math object>"
      ]
     },
     "metadata": {},
     "output_type": "display_data"
    },
    {
     "name": "stdout",
     "output_type": "stream",
     "text": [
      "Solution:\n"
     ]
    },
    {
     "data": {
      "text/latex": [
       "$\\displaystyle - 190 c k + 160 c p + 38 j k - 32 j p $"
      ],
      "text/plain": [
       "<IPython.core.display.Math object>"
      ]
     },
     "metadata": {},
     "output_type": "display_data"
    }
   ],
   "source": [
    "task = bracketMultiplyFormular()\n",
    "printTaskAsLatex(task)\n",
    "solution = transformFormular(task, TRANSFORMTYPE['Bracet'])\n",
    "print('Solution:')\n",
    "printTaskAsLatex(solution)"
   ]
  },
  {
   "cell_type": "markdown",
   "metadata": {},
   "source": [
    "Binom"
   ]
  },
  {
   "cell_type": "code",
   "execution_count": 208,
   "metadata": {},
   "outputs": [
    {
     "data": {
      "text/latex": [
       "$\\displaystyle - 625 b^{2} x^{2} y^{2} + 169 i^{2} k^{2} y^{2} $"
      ],
      "text/plain": [
       "<IPython.core.display.Math object>"
      ]
     },
     "metadata": {},
     "output_type": "display_data"
    },
    {
     "name": "stdout",
     "output_type": "stream",
     "text": [
      "Solution:\n"
     ]
    },
    {
     "data": {
      "text/latex": [
       "$\\displaystyle - y^{2} \\cdot \\left(25 b x - 13 i k\\right) \\left(25 b x + 13 i k\\right) $"
      ],
      "text/plain": [
       "<IPython.core.display.Math object>"
      ]
     },
     "metadata": {},
     "output_type": "display_data"
    }
   ],
   "source": [
    "task, binomType = generateBinomFormular()\n",
    "printTaskAsLatex(task)\n",
    "solution = transformFormular(task, TRANSFORMTYPE[binomType])\n",
    "print('Solution:')\n",
    "printTaskAsLatex(solution)"
   ]
  },
  {
   "cell_type": "markdown",
   "metadata": {},
   "source": [
    "#### Multipl Tasks"
   ]
  },
  {
   "cell_type": "markdown",
   "metadata": {},
   "source": [
    "Vars"
   ]
  },
  {
   "cell_type": "code",
   "execution_count": 160,
   "metadata": {},
   "outputs": [],
   "source": [
    "amount = 10\n",
    "useReversedFormular = True\n",
    "reversedFormularProbability = 0.5"
   ]
  },
  {
   "cell_type": "markdown",
   "metadata": {},
   "source": [
    "Generator"
   ]
  },
  {
   "cell_type": "code",
   "execution_count": 213,
   "metadata": {},
   "outputs": [
    {
     "name": "stdout",
     "output_type": "stream",
     "text": [
      "1Binom\n",
      "2Binom\n",
      "Bracet\n",
      "1Binom\n",
      "1Binom\n",
      "3Binom\n",
      "2Binom\n",
      "3Binom\n",
      "Bracet\n",
      "Bracet\n"
     ]
    },
    {
     "data": {
      "text/latex": [
       "$\\displaystyle 0): \\left(24 b i k + 14 k y z\\right)^{2}\\text{ // expand}$"
      ],
      "text/plain": [
       "<IPython.core.display.Math object>"
      ]
     },
     "metadata": {},
     "output_type": "display_data"
    },
    {
     "data": {
      "text/latex": [
       "$\\displaystyle 1): \\left(3 c j p - 9 c k p\\right)^{2}\\text{ // expand}$"
      ],
      "text/plain": [
       "<IPython.core.display.Math object>"
      ]
     },
     "metadata": {},
     "output_type": "display_data"
    },
    {
     "data": {
      "text/latex": [
       "$\\displaystyle 2): \\left(5 a - 18 i\\right) \\left(6 p - 8 x\\right)\\text{ // expand}$"
      ],
      "text/plain": [
       "<IPython.core.display.Math object>"
      ]
     },
     "metadata": {},
     "output_type": "display_data"
    },
    {
     "data": {
      "text/latex": [
       "$\\displaystyle 3): 81 a^{2} + 396 a x z + 484 x^{2} z^{2}\\text{ // factor}$"
      ],
      "text/plain": [
       "<IPython.core.display.Math object>"
      ]
     },
     "metadata": {},
     "output_type": "display_data"
    },
    {
     "data": {
      "text/latex": [
       "$\\displaystyle 4): 225 c^{2} k^{2} x^{2} + 420 c i k x y z + 196 i^{2} y^{2} z^{2}\\text{ // factor}$"
      ],
      "text/plain": [
       "<IPython.core.display.Math object>"
      ]
     },
     "metadata": {},
     "output_type": "display_data"
    },
    {
     "data": {
      "text/latex": [
       "$\\displaystyle 5): 4 j^{2} \\cdot \\left(4 b z - c\\right) \\left(4 b z + c\\right)\\text{ // expand}$"
      ],
      "text/plain": [
       "<IPython.core.display.Math object>"
      ]
     },
     "metadata": {},
     "output_type": "display_data"
    },
    {
     "data": {
      "text/latex": [
       "$\\displaystyle 6): \\left(11 a j z - 22 b j z\\right)^{2}\\text{ // expand}$"
      ],
      "text/plain": [
       "<IPython.core.display.Math object>"
      ]
     },
     "metadata": {},
     "output_type": "display_data"
    },
    {
     "data": {
      "text/latex": [
       "$\\displaystyle 7): - 289 a^{2} x^{2} + 36 c^{2} k^{2} y^{2}\\text{ // factor}$"
      ],
      "text/plain": [
       "<IPython.core.display.Math object>"
      ]
     },
     "metadata": {},
     "output_type": "display_data"
    },
    {
     "data": {
      "text/latex": [
       "$\\displaystyle 8): \\left(4 c + 10 z\\right) \\left(- 19 j + 3 k\\right)\\text{ // expand}$"
      ],
      "text/plain": [
       "<IPython.core.display.Math object>"
      ]
     },
     "metadata": {},
     "output_type": "display_data"
    },
    {
     "data": {
      "text/latex": [
       "$\\displaystyle 9): - 60 i j + 60 i p - 90 j z + 90 p z\\text{ // factor}$"
      ],
      "text/plain": [
       "<IPython.core.display.Math object>"
      ]
     },
     "metadata": {},
     "output_type": "display_data"
    },
    {
     "data": {
      "text/markdown": [
       "## Lösungen"
      ],
      "text/plain": [
       "<IPython.core.display.Markdown object>"
      ]
     },
     "metadata": {},
     "output_type": "display_data"
    },
    {
     "data": {
      "text/latex": [
       "$\\displaystyle 0): 576 b^{2} i^{2} k^{2} + 672 b i k^{2} y z + 196 k^{2} y^{2} z^{2}$"
      ],
      "text/plain": [
       "<IPython.core.display.Math object>"
      ]
     },
     "metadata": {},
     "output_type": "display_data"
    },
    {
     "data": {
      "text/latex": [
       "$\\displaystyle 1): 9 c^{2} j^{2} p^{2} - 54 c^{2} j k p^{2} + 81 c^{2} k^{2} p^{2}$"
      ],
      "text/plain": [
       "<IPython.core.display.Math object>"
      ]
     },
     "metadata": {},
     "output_type": "display_data"
    },
    {
     "data": {
      "text/latex": [
       "$\\displaystyle 2): 30 a p - 40 a x - 108 i p + 144 i x$"
      ],
      "text/plain": [
       "<IPython.core.display.Math object>"
      ]
     },
     "metadata": {},
     "output_type": "display_data"
    },
    {
     "data": {
      "text/latex": [
       "$\\displaystyle 3): \\left(9 a + 22 x z\\right)^{2}$"
      ],
      "text/plain": [
       "<IPython.core.display.Math object>"
      ]
     },
     "metadata": {},
     "output_type": "display_data"
    },
    {
     "data": {
      "text/latex": [
       "$\\displaystyle 4): \\left(15 c k x + 14 i y z\\right)^{2}$"
      ],
      "text/plain": [
       "<IPython.core.display.Math object>"
      ]
     },
     "metadata": {},
     "output_type": "display_data"
    },
    {
     "data": {
      "text/latex": [
       "$\\displaystyle 5): 64 b^{2} j^{2} z^{2} - 4 c^{2} j^{2}$"
      ],
      "text/plain": [
       "<IPython.core.display.Math object>"
      ]
     },
     "metadata": {},
     "output_type": "display_data"
    },
    {
     "data": {
      "text/latex": [
       "$\\displaystyle 6): 121 a^{2} j^{2} z^{2} - 484 a b j^{2} z^{2} + 484 b^{2} j^{2} z^{2}$"
      ],
      "text/plain": [
       "<IPython.core.display.Math object>"
      ]
     },
     "metadata": {},
     "output_type": "display_data"
    },
    {
     "data": {
      "text/latex": [
       "$\\displaystyle 7): - \\left(17 a x - 6 c k y\\right) \\left(17 a x + 6 c k y\\right)$"
      ],
      "text/plain": [
       "<IPython.core.display.Math object>"
      ]
     },
     "metadata": {},
     "output_type": "display_data"
    },
    {
     "data": {
      "text/latex": [
       "$\\displaystyle 8): - 76 c j + 12 c k - 190 j z + 30 k z$"
      ],
      "text/plain": [
       "<IPython.core.display.Math object>"
      ]
     },
     "metadata": {},
     "output_type": "display_data"
    },
    {
     "data": {
      "text/latex": [
       "$\\displaystyle 9): \\left(- 10 i - 15 z\\right) \\left(6 j - 6 p\\right)$"
      ],
      "text/plain": [
       "<IPython.core.display.Math object>"
      ]
     },
     "metadata": {},
     "output_type": "display_data"
    }
   ],
   "source": [
    "tasks = []\n",
    "transformTypes = []\n",
    "solutions = []\n",
    "for i in range(amount):\n",
    "    equationType, transformType = random.choice(list(TRANSFORMTYPE.items()))\n",
    "    \n",
    "    print(equationType)\n",
    "    \n",
    "    if useReversedFormular:\n",
    "        reversedFormular = random.random()\n",
    "    else:\n",
    "        reversedFormular = 0\n",
    "        \n",
    "    if equationType == '1Binom':\n",
    "        task = firstBinomialFormular()\n",
    "    if equationType == '2Binom':\n",
    "        task = secondBinomialFormular()\n",
    "    if equationType == '3Binom':\n",
    "        task = thirdBinomialFormular()\n",
    "    if equationType == 'Bracet':\n",
    "        task = bracketMultiplyFormular()\n",
    "    \n",
    "    transformedTask = transformFormular(task, transformType)\n",
    "    \n",
    "    if reversedFormular > reversedFormularProbability:\n",
    "        tasks.append(transformedTask)\n",
    "        solutions.append(task)\n",
    "        transformTypes.append(REVERSE_TRANSFORM[transformType])\n",
    "    else:\n",
    "        tasks.append(task)\n",
    "        solutions.append(transformedTask)\n",
    "        transformTypes.append(transformType)\n",
    "\n",
    "printTasksAsLatex(tasks, transformTypes)\n",
    "display(Markdown('## Lösungen'))\n",
    "printTasksAsLatex(solutions)"
   ]
  }
 ],
 "metadata": {
  "kernelspec": {
   "display_name": "Python 3",
   "language": "python",
   "name": "python3"
  },
  "language_info": {
   "codemirror_mode": {
    "name": "ipython",
    "version": 3
   },
   "file_extension": ".py",
   "mimetype": "text/x-python",
   "name": "python",
   "nbconvert_exporter": "python",
   "pygments_lexer": "ipython3",
   "version": "3.11.7"
  }
 },
 "nbformat": 4,
 "nbformat_minor": 2
}
